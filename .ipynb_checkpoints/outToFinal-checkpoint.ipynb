{
 "cells": [
  {
   "cell_type": "code",
   "execution_count": 1,
   "metadata": {
    "collapsed": true
   },
   "outputs": [],
   "source": [
    "import re"
   ]
  },
  {
   "cell_type": "code",
   "execution_count": 2,
   "metadata": {},
   "outputs": [],
   "source": [
    "path = r\"C:\\Users\\Gonxaluh\\Documents\\Student\\MEIC\\LN - Língua Natural\\MP2\\apostaStuff\\apostaApostarApor.out\"\n",
    "word = 'aposta'\n",
    "with open(path,'r',encoding='utf-8') as file:\n",
    "    read = file.read()\n",
    "file_lines = read.split('\\n')"
   ]
  },
  {
   "cell_type": "code",
   "execution_count": 3,
   "metadata": {},
   "outputs": [
    {
     "name": "stdout",
     "output_type": "stream",
     "text": [
      "604\n",
      "604\n"
     ]
    }
   ],
   "source": [
    "#filter out the dirty dirty sentences\n",
    "final_sentences = []\n",
    "final_tags = []\n",
    "\n",
    "for line in file_lines:\n",
    "    split_line = line.split('\\t')\n",
    "    tag = split_line[0]\n",
    "    sentence = split_line[1]\n",
    "    if not (tag.count('n-é-verbo') or (sentence.count(word) > 1) or tag.count('#') or tag.count('?')):\n",
    "        final_sentences.append(sentence)\n",
    "        final_tags.append(tag)\n",
    "        \n",
    "print(len(final_sentences))\n",
    "print(len(final_tags))"
   ]
  },
  {
   "cell_type": "code",
   "execution_count": 4,
   "metadata": {},
   "outputs": [
    {
     "name": "stdout",
     "output_type": "stream",
     "text": [
      "Tanto mais que o governo apostar numa 'grande campanha demagógica ', que poderá registar alguma adesão (nomeadamente quando recorre à contraposição propinas -- impostos) e simultaneamente tem vindo a promover uma 'estratégia de divisão dos estudantes ' -- do Politécnico , do Ensino Superior público e do Ensino Superior privado .\n"
     ]
    }
   ],
   "source": [
    "#replace by the lemma\n",
    "for i in range(len(final_tags)):\n",
    "    final_sentences[i] = re.sub('\\\\b' + word + '\\\\b',final_tags[i],final_sentences[i])"
   ]
  },
  {
   "cell_type": "code",
   "execution_count": 5,
   "metadata": {},
   "outputs": [],
   "source": [
    "#replace and write\n",
    "if word == 'aposta':\n",
    "    final_filename = r'apostaStuff\\apostaApostarApor.final'\n",
    "else:\n",
    "    final_filename = r'foremIrSerStuff\\foremIrSer-2.final'\n",
    "    \n",
    "file = open(final_filename,'w')\n",
    "\n",
    "for sentence in final_sentences:\n",
    "    file.write(sentence + '\\n')\n",
    "    \n",
    "file.close()\n",
    "print('Done!!')"
   ]
  }
 ],
 "metadata": {
  "kernelspec": {
   "display_name": "Python 3",
   "language": "python",
   "name": "python3"
  },
  "language_info": {
   "codemirror_mode": {
    "name": "ipython",
    "version": 3
   },
   "file_extension": ".py",
   "mimetype": "text/x-python",
   "name": "python",
   "nbconvert_exporter": "python",
   "pygments_lexer": "ipython3",
   "version": "3.6.1"
  }
 },
 "nbformat": 4,
 "nbformat_minor": 2
}
