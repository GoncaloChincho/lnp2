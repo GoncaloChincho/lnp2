{
 "cells": [
  {
   "cell_type": "code",
   "execution_count": 19,
   "metadata": {
    "collapsed": true
   },
   "outputs": [],
   "source": [
    "import re\n",
    "import nltk\n",
    "from nltk import word_tokenize\n",
    "from nltk.util import ngrams\n",
    "from collections import Counter"
   ]
  },
  {
   "cell_type": "code",
   "execution_count": 49,
   "metadata": {},
   "outputs": [],
   "source": [
    "word = 'aposta'\n",
    "if word == 'aposta':\n",
    "    folder = 'apostaStuff\\\\'\n",
    "    final_filename = folder + 'apostaApostarApor.final'\n",
    "    unigrams_path = folder + 'apostaApostarAporUNIGRAMAS.txt'\n",
    "    bigrams_path = folder + 'apostaApostarAporBIGRAMAS.txt'\n",
    "else:\n",
    "    folder = 'foremIrSerStuff\\\\'\n",
    "    final_filename = folder + 'foremIrSer-2.final'\n",
    "    unigrams_path = folder + 'foremIrSer-2UNIGRAMAS.txt'\n",
    "    bigrams_path = folder + 'foremIrSer-2BIGRAMAS.txt'\n"
   ]
  },
  {
   "cell_type": "code",
   "execution_count": 21,
   "metadata": {
    "collapsed": true
   },
   "outputs": [],
   "source": [
    "def list_uniq(list):\n",
    "    uniq = []\n",
    "    for el in list:\n",
    "        if not el in uniq:\n",
    "            uniq.append(el)\n",
    "    return uniq"
   ]
  },
  {
   "cell_type": "code",
   "execution_count": 52,
   "metadata": {},
   "outputs": [],
   "source": [
    "#ngrams should be a dictionary -> {'the vaporwave': 0.43241, 'kill jill': 0.12313}\n",
    "def ngrams_to_file(word,ngrams,n):\n",
    "    if word == 'aposta':\n",
    "        filename = 'apostaStuff\\\\aposta'\n",
    "    else:\n",
    "        filename = 'foremIrSerStuff\\\\forem'\n",
    "        \n",
    "    if n == 1:\n",
    "        filename += 'Unigramas.txt'\n",
    "    elif n == 2:\n",
    "        filename += 'Bigramas.txt'\n",
    "        \n",
    "    else:\n",
    "        return 'Bad n!'\n",
    "    file = open(filename,'w')\n",
    "    for ngram in ngrams:\n",
    "        file.write(ngram + '\\t' + str(ngrams[ngram]) + '\\n')"
   ]
  },
  {
   "cell_type": "code",
   "execution_count": 23,
   "metadata": {},
   "outputs": [],
   "source": [
    "file = open(final_filename,'r')\n",
    "text =(file.read()).lower()\n",
    "text_words = nltk.word_tokenize(text)"
   ]
  },
  {
   "cell_type": "markdown",
   "metadata": {},
   "source": [
    "# Unigrams"
   ]
  },
  {
   "cell_type": "code",
   "execution_count": 24,
   "metadata": {
    "collapsed": true
   },
   "outputs": [],
   "source": [
    "tokens = list_uniq(text_words)\n",
    "n_tokens = len(tokens)"
   ]
  },
  {
   "cell_type": "code",
   "execution_count": 45,
   "metadata": {},
   "outputs": [],
   "source": [
    "unigram_counts = {}\n",
    "unigram_probs = {}\n",
    "\n",
    "for token in tokens:\n",
    "    unigram_counts[token] = 0\n",
    "    unigram_probs[token] = 0\n",
    "\n",
    "for word in text_words:\n",
    "    unigram_counts[word] += 1\n",
    "\n",
    "for unigram in unigram_counts:\n",
    "    unigram_probs[unigram] = unigram_counts[unigram]/n_tokens"
   ]
  },
  {
   "cell_type": "code",
   "execution_count": 53,
   "metadata": {},
   "outputs": [
    {
     "name": "stdout",
     "output_type": "stream",
     "text": [
      "aposta\n"
     ]
    }
   ],
   "source": [
    "ngrams_to_file(word,unigram_probs,1)"
   ]
  },
  {
   "cell_type": "markdown",
   "metadata": {},
   "source": [
    "# Bigrams"
   ]
  },
  {
   "cell_type": "code",
   "execution_count": 97,
   "metadata": {
    "collapsed": true
   },
   "outputs": [],
   "source": [
    "bigrams = ngrams(text_words,2)"
   ]
  },
  {
   "cell_type": "code",
   "execution_count": 103,
   "metadata": {},
   "outputs": [
    {
     "data": {
      "text/plain": [
       "'<generator object ngrams at 0x000001F12E8E07D8>'"
      ]
     },
     "execution_count": 103,
     "metadata": {},
     "output_type": "execute_result"
    }
   ],
   "source": [
    "(bigrams)"
   ]
  },
  {
   "cell_type": "code",
   "execution_count": null,
   "metadata": {
    "collapsed": true
   },
   "outputs": [],
   "source": []
  }
 ],
 "metadata": {
  "kernelspec": {
   "display_name": "Python 3",
   "language": "python",
   "name": "python3"
  },
  "language_info": {
   "codemirror_mode": {
    "name": "ipython",
    "version": 3
   },
   "file_extension": ".py",
   "mimetype": "text/x-python",
   "name": "python",
   "nbconvert_exporter": "python",
   "pygments_lexer": "ipython3",
   "version": "3.6.1"
  }
 },
 "nbformat": 4,
 "nbformat_minor": 2
}
